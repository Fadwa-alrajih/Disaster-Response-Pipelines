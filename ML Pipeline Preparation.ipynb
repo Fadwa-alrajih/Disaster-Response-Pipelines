{
 "cells": [
  {
   "cell_type": "markdown",
   "metadata": {},
   "source": [
    "# ML Pipeline Preparation\n",
    "Follow the instructions below to help you create your ML pipeline.\n",
    "### 1. Import libraries and load data from database.\n",
    "- Import Python libraries\n",
    "- Load dataset from database with [`read_sql_table`](https://pandas.pydata.org/pandas-docs/stable/generated/pandas.read_sql_table.html)\n",
    "- Define feature and target variables X and Y"
   ]
  },
  {
   "cell_type": "code",
   "execution_count": 1,
   "metadata": {},
   "outputs": [
    {
     "name": "stderr",
     "output_type": "stream",
     "text": [
      "[nltk_data] Downloading package punkt to\n",
      "[nltk_data]     C:\\Users\\Fadwa\\AppData\\Roaming\\nltk_data...\n",
      "[nltk_data]   Package punkt is already up-to-date!\n",
      "[nltk_data] Downloading package wordnet to\n",
      "[nltk_data]     C:\\Users\\Fadwa\\AppData\\Roaming\\nltk_data...\n",
      "[nltk_data]   Package wordnet is already up-to-date!\n",
      "[nltk_data] Downloading package stopwords to\n",
      "[nltk_data]     C:\\Users\\Fadwa\\AppData\\Roaming\\nltk_data...\n",
      "[nltk_data]   Package stopwords is already up-to-date!\n"
     ]
    }
   ],
   "source": [
    "# import libraries\n",
    "import re\n",
    "%matplotlib inline\n",
    "import matplotlib.pyplot as plt\n",
    "import nltk\n",
    "nltk.download(['punkt', 'wordnet', 'stopwords'])\n",
    "from nltk.corpus import stopwords\n",
    "from nltk.tokenize import word_tokenize\n",
    "from nltk.stem import WordNetLemmatizer\n",
    "import numpy as np\n",
    "import pandas as pd\n",
    "import pickle\n",
    "from sklearn.ensemble import RandomForestClassifier,AdaBoostClassifier\n",
    "from sklearn.feature_extraction.text import CountVectorizer, TfidfTransformer\n",
    "from sklearn.metrics import classification_report, accuracy_score, precision_score, recall_score, f1_score\n",
    "from sklearn.model_selection import train_test_split, GridSearchCV\n",
    "from sklearn.multioutput import MultiOutputClassifier\n",
    "from sklearn.pipeline import Pipeline\n",
    "from sklearn.tree import DecisionTreeClassifier\n",
    "from sqlalchemy import create_engine\n",
    "from sklearn.pipeline import Pipeline, FeatureUnion\n",
    "from nltk.tokenize import word_tokenize\n"
   ]
  },
  {
   "cell_type": "code",
   "execution_count": 2,
   "metadata": {},
   "outputs": [
    {
     "name": "stdout",
     "output_type": "stream",
     "text": [
      "<class 'pandas.core.frame.DataFrame'>\n",
      "RangeIndex: 26215 entries, 0 to 26214\n",
      "Data columns (total 40 columns):\n",
      " #   Column                           Non-Null Count  Dtype \n",
      "---  ------                           --------------  ----- \n",
      " 0   id                               26215 non-null  int64 \n",
      " 1   message                          26215 non-null  object\n",
      " 2   original                         10170 non-null  object\n",
      " 3   genre                            26215 non-null  object\n",
      " 4   category_related                 26215 non-null  int64 \n",
      " 5   category_request                 26215 non-null  int64 \n",
      " 6   category_offer                   26215 non-null  int64 \n",
      " 7   category_aid_related             26215 non-null  int64 \n",
      " 8   category_medical_help            26215 non-null  int64 \n",
      " 9   category_medical_products        26215 non-null  int64 \n",
      " 10  category_search_and_rescue       26215 non-null  int64 \n",
      " 11  category_security                26215 non-null  int64 \n",
      " 12  category_military                26215 non-null  int64 \n",
      " 13  category_child_alone             26215 non-null  int64 \n",
      " 14  category_water                   26215 non-null  int64 \n",
      " 15  category_food                    26215 non-null  int64 \n",
      " 16  category_shelter                 26215 non-null  int64 \n",
      " 17  category_clothing                26215 non-null  int64 \n",
      " 18  category_money                   26215 non-null  int64 \n",
      " 19  category_missing_people          26215 non-null  int64 \n",
      " 20  category_refugees                26215 non-null  int64 \n",
      " 21  category_death                   26215 non-null  int64 \n",
      " 22  category_other_aid               26215 non-null  int64 \n",
      " 23  category_infrastructure_related  26215 non-null  int64 \n",
      " 24  category_transport               26215 non-null  int64 \n",
      " 25  category_buildings               26215 non-null  int64 \n",
      " 26  category_electricity             26215 non-null  int64 \n",
      " 27  category_tools                   26215 non-null  int64 \n",
      " 28  category_hospitals               26215 non-null  int64 \n",
      " 29  category_shops                   26215 non-null  int64 \n",
      " 30  category_aid_centers             26215 non-null  int64 \n",
      " 31  category_other_infrastructure    26215 non-null  int64 \n",
      " 32  category_weather_related         26215 non-null  int64 \n",
      " 33  category_floods                  26215 non-null  int64 \n",
      " 34  category_storm                   26215 non-null  int64 \n",
      " 35  category_fire                    26215 non-null  int64 \n",
      " 36  category_earthquake              26215 non-null  int64 \n",
      " 37  category_cold                    26215 non-null  int64 \n",
      " 38  category_other_weather           26215 non-null  int64 \n",
      " 39  category_direct_report           26215 non-null  int64 \n",
      "dtypes: int64(37), object(3)\n",
      "memory usage: 8.0+ MB\n"
     ]
    }
   ],
   "source": [
    "# load data from database\n",
    "engine = create_engine('sqlite:///DisasterResponse.db')\n",
    "df = pd.read_sql_table('Disasters', con=engine)\n",
    "df.info()\n",
    "\n",
    "categories = df.columns[4:]\n",
    "\n",
    "X = df[['message']].values[:, 0]\n",
    "y = df[categories].values"
   ]
  },
  {
   "cell_type": "code",
   "execution_count": 3,
   "metadata": {},
   "outputs": [
    {
     "name": "stdout",
     "output_type": "stream",
     "text": [
      "          id                                            message  \\\n",
      "0          2  Weather update - a cold front from Cuba that c...   \n",
      "1          7            Is the Hurricane over or is it not over   \n",
      "2          8                    Looking for someone but no name   \n",
      "3          9  UN reports Leogane 80-90 destroyed. Only Hospi...   \n",
      "4         12  says: west side of Haiti, rest of the country ...   \n",
      "...      ...                                                ...   \n",
      "26210  30261  The training demonstrated how to enhance micro...   \n",
      "26211  30262  A suitable candidate has been selected and OCH...   \n",
      "26212  30263  Proshika, operating in Cox's Bazar municipalit...   \n",
      "26213  30264  Some 2,000 women protesting against the conduc...   \n",
      "26214  30265  A radical shift in thinking came about as a re...   \n",
      "\n",
      "                                                original   genre  \\\n",
      "0      Un front froid se retrouve sur Cuba ce matin. ...  direct   \n",
      "1                     Cyclone nan fini osinon li pa fini  direct   \n",
      "2      Patnm, di Maryani relem pou li banm nouvel li ...  direct   \n",
      "3      UN reports Leogane 80-90 destroyed. Only Hospi...  direct   \n",
      "4      facade ouest d Haiti et le reste du pays aujou...  direct   \n",
      "...                                                  ...     ...   \n",
      "26210                                               None    news   \n",
      "26211                                               None    news   \n",
      "26212                                               None    news   \n",
      "26213                                               None    news   \n",
      "26214                                               None    news   \n",
      "\n",
      "       category_related  category_request  category_offer  \\\n",
      "0                     1                 0               0   \n",
      "1                     1                 0               0   \n",
      "2                     1                 0               0   \n",
      "3                     1                 1               0   \n",
      "4                     1                 0               0   \n",
      "...                 ...               ...             ...   \n",
      "26210                 0                 0               0   \n",
      "26211                 0                 0               0   \n",
      "26212                 1                 0               0   \n",
      "26213                 1                 0               0   \n",
      "26214                 1                 0               0   \n",
      "\n",
      "       category_aid_related  category_medical_help  category_medical_products  \\\n",
      "0                         0                      0                          0   \n",
      "1                         1                      0                          0   \n",
      "2                         0                      0                          0   \n",
      "3                         1                      0                          1   \n",
      "4                         0                      0                          0   \n",
      "...                     ...                    ...                        ...   \n",
      "26210                     0                      0                          0   \n",
      "26211                     0                      0                          0   \n",
      "26212                     0                      0                          0   \n",
      "26213                     1                      0                          0   \n",
      "26214                     0                      0                          0   \n",
      "\n",
      "       ...  category_aid_centers  category_other_infrastructure  \\\n",
      "0      ...                     0                              0   \n",
      "1      ...                     0                              0   \n",
      "2      ...                     0                              0   \n",
      "3      ...                     0                              0   \n",
      "4      ...                     0                              0   \n",
      "...    ...                   ...                            ...   \n",
      "26210  ...                     0                              0   \n",
      "26211  ...                     0                              0   \n",
      "26212  ...                     0                              0   \n",
      "26213  ...                     0                              0   \n",
      "26214  ...                     0                              0   \n",
      "\n",
      "       category_weather_related  category_floods  category_storm  \\\n",
      "0                             0                0               0   \n",
      "1                             1                0               1   \n",
      "2                             0                0               0   \n",
      "3                             0                0               0   \n",
      "4                             0                0               0   \n",
      "...                         ...              ...             ...   \n",
      "26210                         0                0               0   \n",
      "26211                         0                0               0   \n",
      "26212                         0                0               0   \n",
      "26213                         0                0               0   \n",
      "26214                         0                0               0   \n",
      "\n",
      "       category_fire  category_earthquake  category_cold  \\\n",
      "0                  0                    0              0   \n",
      "1                  0                    0              0   \n",
      "2                  0                    0              0   \n",
      "3                  0                    0              0   \n",
      "4                  0                    0              0   \n",
      "...              ...                  ...            ...   \n",
      "26210              0                    0              0   \n",
      "26211              0                    0              0   \n",
      "26212              0                    0              0   \n",
      "26213              0                    0              0   \n",
      "26214              0                    0              0   \n",
      "\n",
      "       category_other_weather  category_direct_report  \n",
      "0                           0                       0  \n",
      "1                           0                       0  \n",
      "2                           0                       0  \n",
      "3                           0                       0  \n",
      "4                           0                       0  \n",
      "...                       ...                     ...  \n",
      "26210                       0                       0  \n",
      "26211                       0                       0  \n",
      "26212                       0                       0  \n",
      "26213                       0                       0  \n",
      "26214                       0                       0  \n",
      "\n",
      "[26215 rows x 40 columns]\n"
     ]
    }
   ],
   "source": [
    "print (df)"
   ]
  },
  {
   "cell_type": "markdown",
   "metadata": {},
   "source": [
    "### 2. Write a tokenization function to process your text data"
   ]
  },
  {
   "cell_type": "code",
   "execution_count": 4,
   "metadata": {},
   "outputs": [],
   "source": [
    "url_regex = 'http[s]?://(?:[a-zA-Z]|[0-9]|[$-_@.&+]|[!*\\(\\),]|(?:%[0-9a-fA-F][0-9a-fA-F]))+'\n",
    "\n",
    "def tokenize(text, lemmatizer=WordNetLemmatizer()):\n",
    "    # Detecte URLs\n",
    "    detected_urls = re.findall(url_regex, text)\n",
    "    for url in detected_urls:\n",
    "        text = text.replace(url, 'urlplaceholder')\n",
    "    \n",
    "    # Normalize and tokenize\n",
    "    tokens = nltk.word_tokenize(re.sub(r\"[^a-zA-Z0-9]\", \" \", text.lower()))\n",
    "    \n",
    "    # Remove stopwords\n",
    "    tokens = [t for t in tokens if t not in stopwords.words('english')]\n",
    "\n",
    "    # Lemmatize\n",
    "    tokens = [lemmatizer.lemmatize(t) for t in tokens]\n",
    "    \n",
    "    return tokens"
   ]
  },
  {
   "cell_type": "code",
   "execution_count": 5,
   "metadata": {},
   "outputs": [],
   "source": [
    "# Check vocabulary\n",
    "vect = CountVectorizer(tokenizer=tokenize)\n",
    "X_vectorized = vect.fit_transform(X)"
   ]
  },
  {
   "cell_type": "code",
   "execution_count": 6,
   "metadata": {},
   "outputs": [],
   "source": [
    "# Convert vocabulary into pandas.dataframe\n",
    "keys, values = [], []\n",
    "for k, v in vect.vocabulary_.items():\n",
    "    keys.append(k)\n",
    "    values.append(v)\n",
    "\n",
    "vocabulary = pd.DataFrame.from_dict({'words': keys, 'counts': values})"
   ]
  },
  {
   "cell_type": "code",
   "execution_count": 7,
   "metadata": {
    "scrolled": false
   },
   "outputs": [],
   "source": [
    "vocabulary_counts = list(vocabulary['counts'])"
   ]
  },
  {
   "cell_type": "code",
   "execution_count": 8,
   "metadata": {},
   "outputs": [],
   "source": [
    "pickle.dump(vocabulary_counts, open('vocabulary_stats.pkl', 'wb'))"
   ]
  },
  {
   "cell_type": "code",
   "execution_count": 9,
   "metadata": {},
   "outputs": [],
   "source": [
    "category_counts = list(y.sum(axis=0))"
   ]
  },
  {
   "cell_type": "code",
   "execution_count": 10,
   "metadata": {},
   "outputs": [],
   "source": [
    "pickle.dump(category_counts, open('category_stats.pkl', 'wb'))"
   ]
  },
  {
   "cell_type": "code",
   "execution_count": 11,
   "metadata": {},
   "outputs": [
    {
     "data": {
      "image/png": "[encoded data removed]",
      "text/plain": [
       "<Figure size 1152x720 with 2 Axes>"
      ]
     },
     "metadata": {
      "needs_background": "light"
     },
     "output_type": "display_data"
    }
   ],
   "source": [
    "plt.figure(figsize=(16, 10))\n",
    "plt.subplots_adjust(wspace=0.6)\n",
    "\n",
    "ax1 = plt.subplot(1, 2, 1)\n",
    "vocabulary.sample(30, random_state=72).sort_values('counts').plot.barh(x='words', y='counts', ax=ax1, colormap='tab10')\n",
    "plt.title('The 30 words that are random sampled from vocabulary')\n",
    "plt.xlabel('counts')\n",
    "plt.grid(linestyle='dashed')\n",
    "\n",
    "ax2 = plt.subplot(1, 2, 2)\n",
    "df[categories].sum().sort_values().plot.barh(ax=ax2)\n",
    "plt.title('The 36 categories that must be classified')\n",
    "plt.ylabel('categories')\n",
    "plt.xlabel('a number of messages')\n",
    "plt.grid(linestyle='dashed')\n",
    "\n",
    "plt.show()"
   ]
  },
  {
   "cell_type": "markdown",
   "metadata": {},
   "source": [
    "### 3. Build a machine learning pipeline\n",
    "This machine pipeline should take in the `message` column as input and output classification results on the other 36 categories in the dataset. You may find the [MultiOutputClassifier](http://scikit-learn.org/stable/modules/generated/sklearn.multioutput.MultiOutputClassifier.html) helpful for predicting multiple target variables."
   ]
  },
  {
   "cell_type": "code",
   "execution_count": 12,
   "metadata": {},
   "outputs": [],
   "source": [
    "pipeline = Pipeline([\n",
    "    ('vect', CountVectorizer(tokenizer=tokenize)),\n",
    "    ('tfidf', TfidfTransformer()),\n",
    "    ('clf', MultiOutputClassifier(RandomForestClassifier(class_weight='balanced')))\n",
    "]) "
   ]
  },
  {
   "cell_type": "markdown",
   "metadata": {},
   "source": [
    "### 4. Train pipeline\n",
    "- Split data into train and test sets\n",
    "- Train pipeline"
   ]
  },
  {
   "cell_type": "code",
   "execution_count": 13,
   "metadata": {},
   "outputs": [],
   "source": [
    "X_train, X_test, y_train, y_test = train_test_split(X, y)\n"
   ]
  },
  {
   "cell_type": "code",
   "execution_count": 14,
   "metadata": {
    "scrolled": true
   },
   "outputs": [
    {
     "data": {
      "text/plain": [
       "Pipeline(steps=[('vect',\n",
       "                 CountVectorizer(tokenizer=<function tokenize at 0x00000228F161A040>)),\n",
       "                ('tfidf', TfidfTransformer()),\n",
       "                ('clf',\n",
       "                 MultiOutputClassifier(estimator=RandomForestClassifier(class_weight='balanced')))])"
      ]
     },
     "execution_count": 14,
     "metadata": {},
     "output_type": "execute_result"
    }
   ],
   "source": [
    "pipeline.fit(X_train, y_train)"
   ]
  },
  {
   "cell_type": "markdown",
   "metadata": {},
   "source": [
    "### 5. Test your model\n",
    "Report the f1 score, precision and recall for each output category of the dataset. You can do this by iterating through the columns and calling sklearn's `classification_report` on each."
   ]
  },
  {
   "cell_type": "code",
   "execution_count": 15,
   "metadata": {},
   "outputs": [],
   "source": [
    "def multioutput_classification_report(y_true, y_pred):\n",
    "    for i in range(0, len(categories)):\n",
    "        print(categories[i])\n",
    "        print(\"\\tAccuracy: {:.4f}\\t\\t% Precision: {:.4f}\\t\\t% Recall: {:.4f}\\t\\t% F1_score: {:.4f}\".format(\n",
    "            accuracy_score(y_true[:, i], y_pred[:, i]),\n",
    "            precision_score(y_true[:, i], y_pred[:, i], average='weighted'),\n",
    "            recall_score(y_true[:, i], y_pred[:, i], average='weighted'),\n",
    "            f1_score(y_true[:, i], y_pred[:, i], average='weighted')\n",
    "        ))\n",
    "        #print(classification_report(y_true[:, i], y_pred[:, i]))\n",
    "        #print(\"--------------------------------------------------\")"
   ]
  },
  {
   "cell_type": "code",
   "execution_count": 16,
   "metadata": {},
   "outputs": [],
   "source": [
    "y_pred = pipeline.predict(X_train)"
   ]
  },
  {
   "cell_type": "code",
   "execution_count": 17,
   "metadata": {},
   "outputs": [
    {
     "name": "stdout",
     "output_type": "stream",
     "text": [
      "category_related\n",
      "\tAccuracy: 0.9981\t\t% Precision: 0.9981\t\t% Recall: 0.9981\t\t% F1_score: 0.9981\n",
      "category_request\n",
      "\tAccuracy: 0.9989\t\t% Precision: 0.9989\t\t% Recall: 0.9989\t\t% F1_score: 0.9989\n",
      "category_offer\n",
      "\tAccuracy: 1.0000\t\t% Precision: 1.0000\t\t% Recall: 1.0000\t\t% F1_score: 1.0000\n",
      "category_aid_related\n",
      "\tAccuracy: 0.9988\t\t% Precision: 0.9988\t\t% Recall: 0.9988\t\t% F1_score: 0.9988\n",
      "category_medical_help\n",
      "\tAccuracy: 0.9995\t\t% Precision: 0.9995\t\t% Recall: 0.9995\t\t% F1_score: 0.9995\n",
      "category_medical_products\n",
      "\tAccuracy: 0.9997\t\t% Precision: 0.9997\t\t% Recall: 0.9997\t\t% F1_score: 0.9997\n",
      "category_search_and_rescue\n",
      "\tAccuracy: 0.9999\t\t% Precision: 0.9999\t\t% Recall: 0.9999\t\t% F1_score: 0.9999\n",
      "category_security\n",
      "\tAccuracy: 0.9997\t\t% Precision: 0.9997\t\t% Recall: 0.9997\t\t% F1_score: 0.9997\n",
      "category_military\n",
      "\tAccuracy: 0.9998\t\t% Precision: 0.9998\t\t% Recall: 0.9998\t\t% F1_score: 0.9998\n",
      "category_child_alone\n",
      "\tAccuracy: 1.0000\t\t% Precision: 1.0000\t\t% Recall: 1.0000\t\t% F1_score: 1.0000\n",
      "category_water\n",
      "\tAccuracy: 0.9999\t\t% Precision: 0.9999\t\t% Recall: 0.9999\t\t% F1_score: 0.9999\n",
      "category_food\n",
      "\tAccuracy: 0.9998\t\t% Precision: 0.9998\t\t% Recall: 0.9998\t\t% F1_score: 0.9998\n",
      "category_shelter\n",
      "\tAccuracy: 0.9999\t\t% Precision: 0.9999\t\t% Recall: 0.9999\t\t% F1_score: 0.9999\n",
      "category_clothing\n",
      "\tAccuracy: 0.9998\t\t% Precision: 0.9998\t\t% Recall: 0.9998\t\t% F1_score: 0.9998\n",
      "category_money\n",
      "\tAccuracy: 0.9999\t\t% Precision: 0.9999\t\t% Recall: 0.9999\t\t% F1_score: 0.9999\n",
      "category_missing_people\n",
      "\tAccuracy: 0.9999\t\t% Precision: 0.9999\t\t% Recall: 0.9999\t\t% F1_score: 0.9999\n",
      "category_refugees\n",
      "\tAccuracy: 0.9998\t\t% Precision: 0.9998\t\t% Recall: 0.9998\t\t% F1_score: 0.9998\n",
      "category_death\n",
      "\tAccuracy: 0.9999\t\t% Precision: 0.9999\t\t% Recall: 0.9999\t\t% F1_score: 0.9999\n",
      "category_other_aid\n",
      "\tAccuracy: 0.9990\t\t% Precision: 0.9990\t\t% Recall: 0.9990\t\t% F1_score: 0.9990\n",
      "category_infrastructure_related\n",
      "\tAccuracy: 0.9996\t\t% Precision: 0.9996\t\t% Recall: 0.9996\t\t% F1_score: 0.9996\n",
      "category_transport\n",
      "\tAccuracy: 0.9996\t\t% Precision: 0.9996\t\t% Recall: 0.9996\t\t% F1_score: 0.9996\n",
      "category_buildings\n",
      "\tAccuracy: 0.9998\t\t% Precision: 0.9998\t\t% Recall: 0.9998\t\t% F1_score: 0.9998\n",
      "category_electricity\n",
      "\tAccuracy: 1.0000\t\t% Precision: 1.0000\t\t% Recall: 1.0000\t\t% F1_score: 1.0000\n",
      "category_tools\n",
      "\tAccuracy: 0.9999\t\t% Precision: 0.9999\t\t% Recall: 0.9999\t\t% F1_score: 0.9999\n",
      "category_hospitals\n",
      "\tAccuracy: 0.9999\t\t% Precision: 0.9999\t\t% Recall: 0.9999\t\t% F1_score: 0.9999\n",
      "category_shops\n",
      "\tAccuracy: 1.0000\t\t% Precision: 1.0000\t\t% Recall: 1.0000\t\t% F1_score: 1.0000\n",
      "category_aid_centers\n",
      "\tAccuracy: 0.9999\t\t% Precision: 0.9999\t\t% Recall: 0.9999\t\t% F1_score: 0.9999\n",
      "category_other_infrastructure\n",
      "\tAccuracy: 0.9996\t\t% Precision: 0.9996\t\t% Recall: 0.9996\t\t% F1_score: 0.9996\n",
      "category_weather_related\n",
      "\tAccuracy: 0.9993\t\t% Precision: 0.9993\t\t% Recall: 0.9993\t\t% F1_score: 0.9993\n",
      "category_floods\n",
      "\tAccuracy: 0.9996\t\t% Precision: 0.9996\t\t% Recall: 0.9996\t\t% F1_score: 0.9996\n",
      "category_storm\n",
      "\tAccuracy: 0.9996\t\t% Precision: 0.9996\t\t% Recall: 0.9996\t\t% F1_score: 0.9996\n",
      "category_fire\n",
      "\tAccuracy: 1.0000\t\t% Precision: 1.0000\t\t% Recall: 1.0000\t\t% F1_score: 1.0000\n",
      "category_earthquake\n",
      "\tAccuracy: 0.9996\t\t% Precision: 0.9996\t\t% Recall: 0.9996\t\t% F1_score: 0.9996\n",
      "category_cold\n",
      "\tAccuracy: 0.9998\t\t% Precision: 0.9998\t\t% Recall: 0.9998\t\t% F1_score: 0.9998\n",
      "category_other_weather\n",
      "\tAccuracy: 0.9996\t\t% Precision: 0.9996\t\t% Recall: 0.9996\t\t% F1_score: 0.9996\n",
      "category_direct_report\n",
      "\tAccuracy: 0.9988\t\t% Precision: 0.9988\t\t% Recall: 0.9988\t\t% F1_score: 0.9988\n"
     ]
    }
   ],
   "source": [
    "multioutput_classification_report(y_train, y_pred)"
   ]
  },
  {
   "cell_type": "code",
   "execution_count": 18,
   "metadata": {},
   "outputs": [],
   "source": [
    "y_pred = pipeline.predict(X_test)"
   ]
  },
  {
   "cell_type": "code",
   "execution_count": 19,
   "metadata": {},
   "outputs": [
    {
     "name": "stdout",
     "output_type": "stream",
     "text": [
      "category_related\n",
      "\tAccuracy: 0.8261\t\t% Precision: 0.8141\t\t% Recall: 0.8261\t\t% F1_score: 0.8123\n",
      "category_request\n",
      "\tAccuracy: 0.8998\t\t% Precision: 0.8938\t\t% Recall: 0.8998\t\t% F1_score: 0.8914\n",
      "category_offer\n",
      "\tAccuracy: 0.9950\t\t% Precision: 0.9900\t\t% Recall: 0.9950\t\t% F1_score: 0.9925\n",
      "category_aid_related\n",
      "\tAccuracy: 0.7823\t\t% Precision: 0.7821\t\t% Recall: 0.7823\t\t% F1_score: 0.7822\n",
      "category_medical_help\n",
      "\tAccuracy: 0.9255\t\t% Precision: 0.9072\t\t% Recall: 0.9255\t\t% F1_score: 0.8971\n",
      "category_medical_products\n",
      "\tAccuracy: 0.9553\t\t% Precision: 0.9534\t\t% Recall: 0.9553\t\t% F1_score: 0.9377\n",
      "category_search_and_rescue\n",
      "\tAccuracy: 0.9731\t\t% Precision: 0.9583\t\t% Recall: 0.9731\t\t% F1_score: 0.9606\n",
      "category_security\n",
      "\tAccuracy: 0.9835\t\t% Precision: 0.9721\t\t% Recall: 0.9835\t\t% F1_score: 0.9759\n",
      "category_military\n",
      "\tAccuracy: 0.9660\t\t% Precision: 0.9536\t\t% Recall: 0.9660\t\t% F1_score: 0.9521\n",
      "category_child_alone\n",
      "\tAccuracy: 1.0000\t\t% Precision: 1.0000\t\t% Recall: 1.0000\t\t% F1_score: 1.0000\n",
      "category_water\n",
      "\tAccuracy: 0.9564\t\t% Precision: 0.9532\t\t% Recall: 0.9564\t\t% F1_score: 0.9475\n",
      "category_food\n",
      "\tAccuracy: 0.9393\t\t% Precision: 0.9354\t\t% Recall: 0.9393\t\t% F1_score: 0.9342\n",
      "category_shelter\n",
      "\tAccuracy: 0.9338\t\t% Precision: 0.9292\t\t% Recall: 0.9338\t\t% F1_score: 0.9175\n",
      "category_clothing\n",
      "\tAccuracy: 0.9866\t\t% Precision: 0.9856\t\t% Recall: 0.9866\t\t% F1_score: 0.9813\n",
      "category_money\n",
      "\tAccuracy: 0.9788\t\t% Precision: 0.9751\t\t% Recall: 0.9788\t\t% F1_score: 0.9690\n",
      "category_missing_people\n",
      "\tAccuracy: 0.9899\t\t% Precision: 0.9800\t\t% Recall: 0.9899\t\t% F1_score: 0.9849\n",
      "category_refugees\n",
      "\tAccuracy: 0.9698\t\t% Precision: 0.9509\t\t% Recall: 0.9698\t\t% F1_score: 0.9554\n",
      "category_death\n",
      "\tAccuracy: 0.9529\t\t% Precision: 0.9477\t\t% Recall: 0.9529\t\t% F1_score: 0.9332\n",
      "category_other_aid\n",
      "\tAccuracy: 0.8750\t\t% Precision: 0.8368\t\t% Recall: 0.8750\t\t% F1_score: 0.8292\n",
      "category_infrastructure_related\n",
      "\tAccuracy: 0.9344\t\t% Precision: 0.8823\t\t% Recall: 0.9344\t\t% F1_score: 0.9040\n",
      "category_transport\n",
      "\tAccuracy: 0.9588\t\t% Precision: 0.9475\t\t% Recall: 0.9588\t\t% F1_score: 0.9422\n",
      "category_buildings\n",
      "\tAccuracy: 0.9521\t\t% Precision: 0.9393\t\t% Recall: 0.9521\t\t% F1_score: 0.9331\n",
      "category_electricity\n",
      "\tAccuracy: 0.9797\t\t% Precision: 0.9601\t\t% Recall: 0.9797\t\t% F1_score: 0.9698\n",
      "category_tools\n",
      "\tAccuracy: 0.9948\t\t% Precision: 0.9900\t\t% Recall: 0.9948\t\t% F1_score: 0.9924\n",
      "category_hospitals\n",
      "\tAccuracy: 0.9902\t\t% Precision: 0.9806\t\t% Recall: 0.9902\t\t% F1_score: 0.9854\n",
      "category_shops\n",
      "\tAccuracy: 0.9956\t\t% Precision: 0.9912\t\t% Recall: 0.9956\t\t% F1_score: 0.9934\n",
      "category_aid_centers\n",
      "\tAccuracy: 0.9883\t\t% Precision: 0.9781\t\t% Recall: 0.9883\t\t% F1_score: 0.9832\n",
      "category_other_infrastructure\n",
      "\tAccuracy: 0.9547\t\t% Precision: 0.9234\t\t% Recall: 0.9547\t\t% F1_score: 0.9331\n",
      "category_weather_related\n"
     ]
    },
    {
     "name": "stderr",
     "output_type": "stream",
     "text": [
      "C:\\Users\\Fadwa\\anaconda3\\lib\\site-packages\\sklearn\\metrics\\_classification.py:1245: UndefinedMetricWarning: Precision is ill-defined and being set to 0.0 in labels with no predicted samples. Use `zero_division` parameter to control this behavior.\n",
      "  _warn_prf(average, modifier, msg_start, len(result))\n",
      "C:\\Users\\Fadwa\\anaconda3\\lib\\site-packages\\sklearn\\metrics\\_classification.py:1245: UndefinedMetricWarning: Precision is ill-defined and being set to 0.0 in labels with no predicted samples. Use `zero_division` parameter to control this behavior.\n",
      "  _warn_prf(average, modifier, msg_start, len(result))\n",
      "C:\\Users\\Fadwa\\anaconda3\\lib\\site-packages\\sklearn\\metrics\\_classification.py:1245: UndefinedMetricWarning: Precision is ill-defined and being set to 0.0 in labels with no predicted samples. Use `zero_division` parameter to control this behavior.\n",
      "  _warn_prf(average, modifier, msg_start, len(result))\n",
      "C:\\Users\\Fadwa\\anaconda3\\lib\\site-packages\\sklearn\\metrics\\_classification.py:1245: UndefinedMetricWarning: Precision is ill-defined and being set to 0.0 in labels with no predicted samples. Use `zero_division` parameter to control this behavior.\n",
      "  _warn_prf(average, modifier, msg_start, len(result))\n",
      "C:\\Users\\Fadwa\\anaconda3\\lib\\site-packages\\sklearn\\metrics\\_classification.py:1245: UndefinedMetricWarning: Precision is ill-defined and being set to 0.0 in labels with no predicted samples. Use `zero_division` parameter to control this behavior.\n",
      "  _warn_prf(average, modifier, msg_start, len(result))\n"
     ]
    },
    {
     "name": "stdout",
     "output_type": "stream",
     "text": [
      "\tAccuracy: 0.8781\t\t% Precision: 0.8753\t\t% Recall: 0.8781\t\t% F1_score: 0.8745\n",
      "category_floods\n",
      "\tAccuracy: 0.9452\t\t% Precision: 0.9421\t\t% Recall: 0.9452\t\t% F1_score: 0.9337\n",
      "category_storm\n",
      "\tAccuracy: 0.9387\t\t% Precision: 0.9323\t\t% Recall: 0.9387\t\t% F1_score: 0.9319\n",
      "category_fire\n",
      "\tAccuracy: 0.9887\t\t% Precision: 0.9775\t\t% Recall: 0.9887\t\t% F1_score: 0.9831\n",
      "category_earthquake\n",
      "\tAccuracy: 0.9634\t\t% Precision: 0.9617\t\t% Recall: 0.9634\t\t% F1_score: 0.9611\n",
      "category_cold\n",
      "\tAccuracy: 0.9792\t\t% Precision: 0.9670\t\t% Recall: 0.9792\t\t% F1_score: 0.9703\n",
      "category_other_weather\n",
      "\tAccuracy: 0.9478\t\t% Precision: 0.9248\t\t% Recall: 0.9478\t\t% F1_score: 0.9233\n",
      "category_direct_report\n",
      "\tAccuracy: 0.8630\t\t% Precision: 0.8522\t\t% Recall: 0.8630\t\t% F1_score: 0.8476\n"
     ]
    }
   ],
   "source": [
    "multioutput_classification_report(y_test, y_pred)"
   ]
  },
  {
   "cell_type": "markdown",
   "metadata": {},
   "source": [
    "### 6. Improve your model\n",
    "Use grid search to find better parameters. "
   ]
  },
  {
   "cell_type": "code",
   "execution_count": 20,
   "metadata": {},
   "outputs": [],
   "source": [
    "parameters = {\n",
    "    'clf__estimator__n_estimators': [20, 50]\n",
    "}\n",
    "\n",
    "cv = GridSearchCV(estimator=pipeline, param_grid=parameters, cv=3, scoring='f1_weighted', verbose=3)"
   ]
  },
  {
   "cell_type": "code",
   "execution_count": 21,
   "metadata": {},
   "outputs": [
    {
     "name": "stdout",
     "output_type": "stream",
     "text": [
      "Fitting 3 folds for each of 2 candidates, totalling 6 fits\n"
     ]
    },
    {
     "name": "stderr",
     "output_type": "stream",
     "text": [
      "C:\\Users\\Fadwa\\anaconda3\\lib\\site-packages\\sklearn\\metrics\\_classification.py:1492: UndefinedMetricWarning: F-score is ill-defined and being set to 0.0 in labels with no true nor predicted samples. Use `zero_division` parameter to control this behavior.\n",
      "  _warn_prf(\n"
     ]
    },
    {
     "name": "stdout",
     "output_type": "stream",
     "text": [
      "[CV 1/3] END ................clf__estimator__n_estimators=20; total time= 2.0min\n"
     ]
    },
    {
     "name": "stderr",
     "output_type": "stream",
     "text": [
      "C:\\Users\\Fadwa\\anaconda3\\lib\\site-packages\\sklearn\\metrics\\_classification.py:1492: UndefinedMetricWarning: F-score is ill-defined and being set to 0.0 in labels with no true nor predicted samples. Use `zero_division` parameter to control this behavior.\n",
      "  _warn_prf(\n"
     ]
    },
    {
     "name": "stdout",
     "output_type": "stream",
     "text": [
      "[CV 2/3] END ................clf__estimator__n_estimators=20; total time= 2.1min\n"
     ]
    },
    {
     "name": "stderr",
     "output_type": "stream",
     "text": [
      "C:\\Users\\Fadwa\\anaconda3\\lib\\site-packages\\sklearn\\metrics\\_classification.py:1492: UndefinedMetricWarning: F-score is ill-defined and being set to 0.0 in labels with no true nor predicted samples. Use `zero_division` parameter to control this behavior.\n",
      "  _warn_prf(\n"
     ]
    },
    {
     "name": "stdout",
     "output_type": "stream",
     "text": [
      "[CV 3/3] END ................clf__estimator__n_estimators=20; total time= 2.0min\n"
     ]
    },
    {
     "name": "stderr",
     "output_type": "stream",
     "text": [
      "C:\\Users\\Fadwa\\anaconda3\\lib\\site-packages\\sklearn\\metrics\\_classification.py:1492: UndefinedMetricWarning: F-score is ill-defined and being set to 0.0 in labels with no true nor predicted samples. Use `zero_division` parameter to control this behavior.\n",
      "  _warn_prf(\n"
     ]
    },
    {
     "name": "stdout",
     "output_type": "stream",
     "text": [
      "[CV 1/3] END ................clf__estimator__n_estimators=50; total time= 3.1min\n"
     ]
    },
    {
     "name": "stderr",
     "output_type": "stream",
     "text": [
      "C:\\Users\\Fadwa\\anaconda3\\lib\\site-packages\\sklearn\\metrics\\_classification.py:1492: UndefinedMetricWarning: F-score is ill-defined and being set to 0.0 in labels with no true nor predicted samples. Use `zero_division` parameter to control this behavior.\n",
      "  _warn_prf(\n"
     ]
    },
    {
     "name": "stdout",
     "output_type": "stream",
     "text": [
      "[CV 2/3] END ................clf__estimator__n_estimators=50; total time= 2.9min\n"
     ]
    },
    {
     "name": "stderr",
     "output_type": "stream",
     "text": [
      "C:\\Users\\Fadwa\\anaconda3\\lib\\site-packages\\sklearn\\metrics\\_classification.py:1492: UndefinedMetricWarning: F-score is ill-defined and being set to 0.0 in labels with no true nor predicted samples. Use `zero_division` parameter to control this behavior.\n",
      "  _warn_prf(\n"
     ]
    },
    {
     "name": "stdout",
     "output_type": "stream",
     "text": [
      "[CV 3/3] END ................clf__estimator__n_estimators=50; total time= 3.1min\n"
     ]
    },
    {
     "data": {
      "text/plain": [
       "GridSearchCV(cv=3,\n",
       "             estimator=Pipeline(steps=[('vect',\n",
       "                                        CountVectorizer(tokenizer=<function tokenize at 0x00000228F161A040>)),\n",
       "                                       ('tfidf', TfidfTransformer()),\n",
       "                                       ('clf',\n",
       "                                        MultiOutputClassifier(estimator=RandomForestClassifier(class_weight='balanced')))]),\n",
       "             param_grid={'clf__estimator__n_estimators': [20, 50]},\n",
       "             scoring='f1_weighted', verbose=3)"
      ]
     },
     "execution_count": 21,
     "metadata": {},
     "output_type": "execute_result"
    }
   ],
   "source": [
    "\n",
    "cv.fit(X_train, y_train)\n"
   ]
  },
  {
   "cell_type": "markdown",
   "metadata": {},
   "source": [
    "### 7. Test your model\n",
    "Show the accuracy, precision, and recall of the tuned model.  \n",
    "\n",
    "Since this project focuses on code quality, process, and  pipelines, there is no minimum performance metric needed to pass. However, make sure to fine tune your models for accuracy, precision and recall to make your project stand out - especially for your portfolio!"
   ]
  },
  {
   "cell_type": "code",
   "execution_count": 22,
   "metadata": {},
   "outputs": [],
   "source": [
    "y_pred = cv.predict(X_train)"
   ]
  },
  {
   "cell_type": "code",
   "execution_count": 23,
   "metadata": {},
   "outputs": [
    {
     "name": "stdout",
     "output_type": "stream",
     "text": [
      "category_related\n",
      "\tAccuracy: 0.9978\t\t% Precision: 0.9978\t\t% Recall: 0.9978\t\t% F1_score: 0.9978\n",
      "category_request\n",
      "\tAccuracy: 0.9985\t\t% Precision: 0.9985\t\t% Recall: 0.9985\t\t% F1_score: 0.9985\n",
      "category_offer\n",
      "\tAccuracy: 0.9997\t\t% Precision: 0.9997\t\t% Recall: 0.9997\t\t% F1_score: 0.9997\n",
      "category_aid_related\n",
      "\tAccuracy: 0.9985\t\t% Precision: 0.9985\t\t% Recall: 0.9985\t\t% F1_score: 0.9985\n",
      "category_medical_help\n",
      "\tAccuracy: 0.9990\t\t% Precision: 0.9990\t\t% Recall: 0.9990\t\t% F1_score: 0.9990\n",
      "category_medical_products\n",
      "\tAccuracy: 0.9994\t\t% Precision: 0.9994\t\t% Recall: 0.9994\t\t% F1_score: 0.9994\n",
      "category_search_and_rescue\n",
      "\tAccuracy: 0.9994\t\t% Precision: 0.9994\t\t% Recall: 0.9994\t\t% F1_score: 0.9994\n",
      "category_security\n",
      "\tAccuracy: 0.9993\t\t% Precision: 0.9993\t\t% Recall: 0.9993\t\t% F1_score: 0.9993\n",
      "category_military\n",
      "\tAccuracy: 0.9998\t\t% Precision: 0.9998\t\t% Recall: 0.9998\t\t% F1_score: 0.9998\n",
      "category_child_alone\n",
      "\tAccuracy: 1.0000\t\t% Precision: 1.0000\t\t% Recall: 1.0000\t\t% F1_score: 1.0000\n",
      "category_water\n",
      "\tAccuracy: 0.9998\t\t% Precision: 0.9998\t\t% Recall: 0.9998\t\t% F1_score: 0.9998\n",
      "category_food\n",
      "\tAccuracy: 0.9998\t\t% Precision: 0.9998\t\t% Recall: 0.9998\t\t% F1_score: 0.9998\n",
      "category_shelter\n",
      "\tAccuracy: 0.9997\t\t% Precision: 0.9997\t\t% Recall: 0.9997\t\t% F1_score: 0.9997\n",
      "category_clothing\n",
      "\tAccuracy: 0.9997\t\t% Precision: 0.9997\t\t% Recall: 0.9997\t\t% F1_score: 0.9997\n",
      "category_money\n",
      "\tAccuracy: 0.9994\t\t% Precision: 0.9994\t\t% Recall: 0.9994\t\t% F1_score: 0.9994\n",
      "category_missing_people\n",
      "\tAccuracy: 0.9997\t\t% Precision: 0.9997\t\t% Recall: 0.9997\t\t% F1_score: 0.9997\n",
      "category_refugees\n",
      "\tAccuracy: 0.9992\t\t% Precision: 0.9992\t\t% Recall: 0.9992\t\t% F1_score: 0.9992\n",
      "category_death\n",
      "\tAccuracy: 0.9997\t\t% Precision: 0.9997\t\t% Recall: 0.9997\t\t% F1_score: 0.9997\n",
      "category_other_aid\n",
      "\tAccuracy: 0.9984\t\t% Precision: 0.9984\t\t% Recall: 0.9984\t\t% F1_score: 0.9984\n",
      "category_infrastructure_related\n",
      "\tAccuracy: 0.9988\t\t% Precision: 0.9988\t\t% Recall: 0.9988\t\t% F1_score: 0.9988\n",
      "category_transport\n",
      "\tAccuracy: 0.9990\t\t% Precision: 0.9990\t\t% Recall: 0.9990\t\t% F1_score: 0.9990\n",
      "category_buildings\n",
      "\tAccuracy: 0.9995\t\t% Precision: 0.9995\t\t% Recall: 0.9995\t\t% F1_score: 0.9995\n",
      "category_electricity\n",
      "\tAccuracy: 0.9998\t\t% Precision: 0.9998\t\t% Recall: 0.9998\t\t% F1_score: 0.9998\n",
      "category_tools\n",
      "\tAccuracy: 0.9997\t\t% Precision: 0.9997\t\t% Recall: 0.9997\t\t% F1_score: 0.9997\n",
      "category_hospitals\n",
      "\tAccuracy: 0.9996\t\t% Precision: 0.9996\t\t% Recall: 0.9996\t\t% F1_score: 0.9996\n",
      "category_shops\n",
      "\tAccuracy: 0.9999\t\t% Precision: 0.9999\t\t% Recall: 0.9999\t\t% F1_score: 0.9999\n",
      "category_aid_centers\n",
      "\tAccuracy: 0.9996\t\t% Precision: 0.9996\t\t% Recall: 0.9996\t\t% F1_score: 0.9996\n",
      "category_other_infrastructure\n",
      "\tAccuracy: 0.9993\t\t% Precision: 0.9993\t\t% Recall: 0.9993\t\t% F1_score: 0.9993\n",
      "category_weather_related\n",
      "\tAccuracy: 0.9988\t\t% Precision: 0.9988\t\t% Recall: 0.9988\t\t% F1_score: 0.9988\n",
      "category_floods\n",
      "\tAccuracy: 0.9991\t\t% Precision: 0.9991\t\t% Recall: 0.9991\t\t% F1_score: 0.9991\n",
      "category_storm\n",
      "\tAccuracy: 0.9994\t\t% Precision: 0.9994\t\t% Recall: 0.9994\t\t% F1_score: 0.9994\n",
      "category_fire\n",
      "\tAccuracy: 0.9997\t\t% Precision: 0.9997\t\t% Recall: 0.9997\t\t% F1_score: 0.9997\n",
      "category_earthquake\n",
      "\tAccuracy: 0.9994\t\t% Precision: 0.9994\t\t% Recall: 0.9994\t\t% F1_score: 0.9994\n",
      "category_cold\n",
      "\tAccuracy: 0.9998\t\t% Precision: 0.9998\t\t% Recall: 0.9998\t\t% F1_score: 0.9998\n",
      "category_other_weather\n",
      "\tAccuracy: 0.9988\t\t% Precision: 0.9988\t\t% Recall: 0.9988\t\t% F1_score: 0.9988\n",
      "category_direct_report\n",
      "\tAccuracy: 0.9984\t\t% Precision: 0.9984\t\t% Recall: 0.9984\t\t% F1_score: 0.9984\n"
     ]
    }
   ],
   "source": [
    "multioutput_classification_report(y_train, y_pred)"
   ]
  },
  {
   "cell_type": "code",
   "execution_count": 24,
   "metadata": {},
   "outputs": [],
   "source": [
    "y_pred = cv.predict(X_test)"
   ]
  },
  {
   "cell_type": "code",
   "execution_count": 25,
   "metadata": {},
   "outputs": [
    {
     "name": "stdout",
     "output_type": "stream",
     "text": [
      "category_related\n",
      "\tAccuracy: 0.8255\t\t% Precision: 0.8134\t\t% Recall: 0.8255\t\t% F1_score: 0.8116\n",
      "category_request\n",
      "\tAccuracy: 0.8995\t\t% Precision: 0.8938\t\t% Recall: 0.8995\t\t% F1_score: 0.8904\n",
      "category_offer\n",
      "\tAccuracy: 0.9950\t\t% Precision: 0.9900\t\t% Recall: 0.9950\t\t% F1_score: 0.9925\n",
      "category_aid_related\n",
      "\tAccuracy: 0.7751\t\t% Precision: 0.7740\t\t% Recall: 0.7751\t\t% F1_score: 0.7744\n",
      "category_medical_help\n",
      "\tAccuracy: 0.9240\t\t% Precision: 0.8993\t\t% Recall: 0.9240\t\t% F1_score: 0.8966\n",
      "category_medical_products\n",
      "\tAccuracy: 0.9536\t\t% Precision: 0.9456\t\t% Recall: 0.9536\t\t% F1_score: 0.9350\n",
      "category_search_and_rescue\n",
      "\tAccuracy: 0.9731\t\t% Precision: 0.9583\t\t% Recall: 0.9731\t\t% F1_score: 0.9606\n",
      "category_security\n",
      "\tAccuracy: 0.9835\t\t% Precision: 0.9721\t\t% Recall: 0.9835\t\t% F1_score: 0.9759\n",
      "category_military\n",
      "\tAccuracy: 0.9654\t\t% Precision: 0.9500\t\t% Recall: 0.9654\t\t% F1_score: 0.9513\n",
      "category_child_alone\n",
      "\tAccuracy: 1.0000\t\t% Precision: 1.0000\t\t% Recall: 1.0000\t\t% F1_score: 1.0000\n",
      "category_water\n",
      "\tAccuracy: 0.9539\t\t% Precision: 0.9502\t\t% Recall: 0.9539\t\t% F1_score: 0.9435\n",
      "category_food\n",
      "\tAccuracy: 0.9359\t\t% Precision: 0.9314\t\t% Recall: 0.9359\t\t% F1_score: 0.9303\n",
      "category_shelter\n",
      "\tAccuracy: 0.9355\t\t% Precision: 0.9302\t\t% Recall: 0.9355\t\t% F1_score: 0.9210\n",
      "category_clothing\n",
      "\tAccuracy: 0.9863\t\t% Precision: 0.9850\t\t% Recall: 0.9863\t\t% F1_score: 0.9806\n",
      "category_money\n",
      "\tAccuracy: 0.9789\t\t% Precision: 0.9794\t\t% Recall: 0.9789\t\t% F1_score: 0.9691\n",
      "category_missing_people\n",
      "\tAccuracy: 0.9899\t\t% Precision: 0.9800\t\t% Recall: 0.9899\t\t% F1_score: 0.9849\n",
      "category_refugees\n"
     ]
    },
    {
     "name": "stderr",
     "output_type": "stream",
     "text": [
      "C:\\Users\\Fadwa\\anaconda3\\lib\\site-packages\\sklearn\\metrics\\_classification.py:1245: UndefinedMetricWarning: Precision is ill-defined and being set to 0.0 in labels with no predicted samples. Use `zero_division` parameter to control this behavior.\n",
      "  _warn_prf(average, modifier, msg_start, len(result))\n",
      "C:\\Users\\Fadwa\\anaconda3\\lib\\site-packages\\sklearn\\metrics\\_classification.py:1245: UndefinedMetricWarning: Precision is ill-defined and being set to 0.0 in labels with no predicted samples. Use `zero_division` parameter to control this behavior.\n",
      "  _warn_prf(average, modifier, msg_start, len(result))\n"
     ]
    },
    {
     "name": "stdout",
     "output_type": "stream",
     "text": [
      "\tAccuracy: 0.9699\t\t% Precision: 0.9561\t\t% Recall: 0.9699\t\t% F1_score: 0.9557\n",
      "category_death\n",
      "\tAccuracy: 0.9527\t\t% Precision: 0.9443\t\t% Recall: 0.9527\t\t% F1_score: 0.9336\n",
      "category_other_aid\n",
      "\tAccuracy: 0.8741\t\t% Precision: 0.8319\t\t% Recall: 0.8741\t\t% F1_score: 0.8265\n",
      "category_infrastructure_related\n",
      "\tAccuracy: 0.9345\t\t% Precision: 0.8882\t\t% Recall: 0.9345\t\t% F1_score: 0.9044\n",
      "category_transport\n",
      "\tAccuracy: 0.9591\t\t% Precision: 0.9481\t\t% Recall: 0.9591\t\t% F1_score: 0.9434\n",
      "category_buildings\n",
      "\tAccuracy: 0.9544\t\t% Precision: 0.9487\t\t% Recall: 0.9544\t\t% F1_score: 0.9371\n",
      "category_electricity\n",
      "\tAccuracy: 0.9802\t\t% Precision: 0.9757\t\t% Recall: 0.9802\t\t% F1_score: 0.9709\n",
      "category_tools\n",
      "\tAccuracy: 0.9948\t\t% Precision: 0.9900\t\t% Recall: 0.9948\t\t% F1_score: 0.9924\n",
      "category_hospitals\n",
      "\tAccuracy: 0.9902\t\t% Precision: 0.9806\t\t% Recall: 0.9902\t\t% F1_score: 0.9854\n",
      "category_shops\n",
      "\tAccuracy: 0.9956\t\t% Precision: 0.9912\t\t% Recall: 0.9956\t\t% F1_score: 0.9934\n",
      "category_aid_centers\n",
      "\tAccuracy: 0.9890\t\t% Precision: 0.9781\t\t% Recall: 0.9890\t\t% F1_score: 0.9836\n",
      "category_other_infrastructure\n",
      "\tAccuracy: 0.9548\t\t% Precision: 0.9303\t\t% Recall: 0.9548\t\t% F1_score: 0.9335\n",
      "category_weather_related\n",
      "\tAccuracy: 0.8756\t\t% Precision: 0.8729\t\t% Recall: 0.8756\t\t% F1_score: 0.8714\n",
      "category_floods\n",
      "\tAccuracy: 0.9410\t\t% Precision: 0.9379\t\t% Recall: 0.9410\t\t% F1_score: 0.9262\n",
      "category_storm\n",
      "\tAccuracy: 0.9327\t\t% Precision: 0.9254\t\t% Recall: 0.9327\t\t% F1_score: 0.9212\n",
      "category_fire\n",
      "\tAccuracy: 0.9887\t\t% Precision: 0.9775\t\t% Recall: 0.9887\t\t% F1_score: 0.9831\n",
      "category_earthquake\n",
      "\tAccuracy: 0.9640\t\t% Precision: 0.9625\t\t% Recall: 0.9640\t\t% F1_score: 0.9617\n",
      "category_cold\n",
      "\tAccuracy: 0.9792\t\t% Precision: 0.9670\t\t% Recall: 0.9792\t\t% F1_score: 0.9703\n",
      "category_other_weather\n",
      "\tAccuracy: 0.9486\t\t% Precision: 0.9374\t\t% Recall: 0.9486\t\t% F1_score: 0.9251\n",
      "category_direct_report\n",
      "\tAccuracy: 0.8573\t\t% Precision: 0.8448\t\t% Recall: 0.8573\t\t% F1_score: 0.8408\n"
     ]
    },
    {
     "name": "stderr",
     "output_type": "stream",
     "text": [
      "C:\\Users\\Fadwa\\anaconda3\\lib\\site-packages\\sklearn\\metrics\\_classification.py:1245: UndefinedMetricWarning: Precision is ill-defined and being set to 0.0 in labels with no predicted samples. Use `zero_division` parameter to control this behavior.\n",
      "  _warn_prf(average, modifier, msg_start, len(result))\n",
      "C:\\Users\\Fadwa\\anaconda3\\lib\\site-packages\\sklearn\\metrics\\_classification.py:1245: UndefinedMetricWarning: Precision is ill-defined and being set to 0.0 in labels with no predicted samples. Use `zero_division` parameter to control this behavior.\n",
      "  _warn_prf(average, modifier, msg_start, len(result))\n",
      "C:\\Users\\Fadwa\\anaconda3\\lib\\site-packages\\sklearn\\metrics\\_classification.py:1245: UndefinedMetricWarning: Precision is ill-defined and being set to 0.0 in labels with no predicted samples. Use `zero_division` parameter to control this behavior.\n",
      "  _warn_prf(average, modifier, msg_start, len(result))\n",
      "C:\\Users\\Fadwa\\anaconda3\\lib\\site-packages\\sklearn\\metrics\\_classification.py:1245: UndefinedMetricWarning: Precision is ill-defined and being set to 0.0 in labels with no predicted samples. Use `zero_division` parameter to control this behavior.\n",
      "  _warn_prf(average, modifier, msg_start, len(result))\n"
     ]
    }
   ],
   "source": [
    "multioutput_classification_report(y_test, y_pred)"
   ]
  },
  {
   "cell_type": "markdown",
   "metadata": {},
   "source": [
    "### 8. Try improving your model further. Here are a few ideas:\n",
    "* try other machine learning algorithms\n",
    "* add other features besides the TF-IDF"
   ]
  },
  {
   "cell_type": "code",
   "execution_count": 26,
   "metadata": {},
   "outputs": [],
   "source": [
    "pipeline_ada = Pipeline([\n",
    "    ('vect', CountVectorizer(tokenizer=tokenize)),\n",
    "    ('tfidf', TfidfTransformer()),\n",
    "    ('clf', MultiOutputClassifier(\n",
    "        AdaBoostClassifier(base_estimator=DecisionTreeClassifier(max_depth=1, class_weight='balanced'))\n",
    "    ))\n",
    "])\n",
    "\n",
    "parameters_ada = {\n",
    "    'clf__estimator__learning_rate': [0.1, 0.3],\n",
    "    'clf__estimator__n_estimators': [100, 200]\n",
    "}\n",
    "\n",
    "cv_ada = GridSearchCV(estimator=pipeline_ada, param_grid=parameters_ada, cv=3, scoring='f1_weighted', verbose=3)"
   ]
  },
  {
   "cell_type": "code",
   "execution_count": 27,
   "metadata": {},
   "outputs": [
    {
     "name": "stdout",
     "output_type": "stream",
     "text": [
      "Fitting 3 folds for each of 4 candidates, totalling 12 fits\n"
     ]
    },
    {
     "name": "stderr",
     "output_type": "stream",
     "text": [
      "C:\\Users\\Fadwa\\anaconda3\\lib\\site-packages\\sklearn\\metrics\\_classification.py:1492: UndefinedMetricWarning: F-score is ill-defined and being set to 0.0 in labels with no true nor predicted samples. Use `zero_division` parameter to control this behavior.\n",
      "  _warn_prf(\n"
     ]
    },
    {
     "name": "stdout",
     "output_type": "stream",
     "text": [
      "[CV 1/3] END clf__estimator__learning_rate=0.1, clf__estimator__n_estimators=100; total time= 2.6min\n"
     ]
    },
    {
     "name": "stderr",
     "output_type": "stream",
     "text": [
      "C:\\Users\\Fadwa\\anaconda3\\lib\\site-packages\\sklearn\\metrics\\_classification.py:1492: UndefinedMetricWarning: F-score is ill-defined and being set to 0.0 in labels with no true nor predicted samples. Use `zero_division` parameter to control this behavior.\n",
      "  _warn_prf(\n"
     ]
    },
    {
     "name": "stdout",
     "output_type": "stream",
     "text": [
      "[CV 2/3] END clf__estimator__learning_rate=0.1, clf__estimator__n_estimators=100; total time= 3.0min\n"
     ]
    },
    {
     "name": "stderr",
     "output_type": "stream",
     "text": [
      "C:\\Users\\Fadwa\\anaconda3\\lib\\site-packages\\sklearn\\metrics\\_classification.py:1492: UndefinedMetricWarning: F-score is ill-defined and being set to 0.0 in labels with no true nor predicted samples. Use `zero_division` parameter to control this behavior.\n",
      "  _warn_prf(\n"
     ]
    },
    {
     "name": "stdout",
     "output_type": "stream",
     "text": [
      "[CV 3/3] END clf__estimator__learning_rate=0.1, clf__estimator__n_estimators=100; total time= 3.0min\n"
     ]
    },
    {
     "name": "stderr",
     "output_type": "stream",
     "text": [
      "C:\\Users\\Fadwa\\anaconda3\\lib\\site-packages\\sklearn\\metrics\\_classification.py:1492: UndefinedMetricWarning: F-score is ill-defined and being set to 0.0 in labels with no true nor predicted samples. Use `zero_division` parameter to control this behavior.\n",
      "  _warn_prf(\n"
     ]
    },
    {
     "name": "stdout",
     "output_type": "stream",
     "text": [
      "[CV 1/3] END clf__estimator__learning_rate=0.1, clf__estimator__n_estimators=200; total time= 4.4min\n"
     ]
    },
    {
     "name": "stderr",
     "output_type": "stream",
     "text": [
      "C:\\Users\\Fadwa\\anaconda3\\lib\\site-packages\\sklearn\\metrics\\_classification.py:1492: UndefinedMetricWarning: F-score is ill-defined and being set to 0.0 in labels with no true nor predicted samples. Use `zero_division` parameter to control this behavior.\n",
      "  _warn_prf(\n"
     ]
    },
    {
     "name": "stdout",
     "output_type": "stream",
     "text": [
      "[CV 2/3] END clf__estimator__learning_rate=0.1, clf__estimator__n_estimators=200; total time= 4.7min\n"
     ]
    },
    {
     "name": "stderr",
     "output_type": "stream",
     "text": [
      "C:\\Users\\Fadwa\\anaconda3\\lib\\site-packages\\sklearn\\metrics\\_classification.py:1492: UndefinedMetricWarning: F-score is ill-defined and being set to 0.0 in labels with no true nor predicted samples. Use `zero_division` parameter to control this behavior.\n",
      "  _warn_prf(\n"
     ]
    },
    {
     "name": "stdout",
     "output_type": "stream",
     "text": [
      "[CV 3/3] END clf__estimator__learning_rate=0.1, clf__estimator__n_estimators=200; total time= 4.2min\n"
     ]
    },
    {
     "name": "stderr",
     "output_type": "stream",
     "text": [
      "C:\\Users\\Fadwa\\anaconda3\\lib\\site-packages\\sklearn\\metrics\\_classification.py:1492: UndefinedMetricWarning: F-score is ill-defined and being set to 0.0 in labels with no true nor predicted samples. Use `zero_division` parameter to control this behavior.\n",
      "  _warn_prf(\n"
     ]
    },
    {
     "name": "stdout",
     "output_type": "stream",
     "text": [
      "[CV 1/3] END clf__estimator__learning_rate=0.3, clf__estimator__n_estimators=100; total time= 2.5min\n"
     ]
    },
    {
     "name": "stderr",
     "output_type": "stream",
     "text": [
      "C:\\Users\\Fadwa\\anaconda3\\lib\\site-packages\\sklearn\\metrics\\_classification.py:1492: UndefinedMetricWarning: F-score is ill-defined and being set to 0.0 in labels with no true nor predicted samples. Use `zero_division` parameter to control this behavior.\n",
      "  _warn_prf(\n"
     ]
    },
    {
     "name": "stdout",
     "output_type": "stream",
     "text": [
      "[CV 2/3] END clf__estimator__learning_rate=0.3, clf__estimator__n_estimators=100; total time= 2.6min\n"
     ]
    },
    {
     "name": "stderr",
     "output_type": "stream",
     "text": [
      "C:\\Users\\Fadwa\\anaconda3\\lib\\site-packages\\sklearn\\metrics\\_classification.py:1492: UndefinedMetricWarning: F-score is ill-defined and being set to 0.0 in labels with no true nor predicted samples. Use `zero_division` parameter to control this behavior.\n",
      "  _warn_prf(\n"
     ]
    },
    {
     "name": "stdout",
     "output_type": "stream",
     "text": [
      "[CV 3/3] END clf__estimator__learning_rate=0.3, clf__estimator__n_estimators=100; total time= 2.6min\n"
     ]
    },
    {
     "name": "stderr",
     "output_type": "stream",
     "text": [
      "C:\\Users\\Fadwa\\anaconda3\\lib\\site-packages\\sklearn\\metrics\\_classification.py:1492: UndefinedMetricWarning: F-score is ill-defined and being set to 0.0 in labels with no true nor predicted samples. Use `zero_division` parameter to control this behavior.\n",
      "  _warn_prf(\n"
     ]
    },
    {
     "name": "stdout",
     "output_type": "stream",
     "text": [
      "[CV 1/3] END clf__estimator__learning_rate=0.3, clf__estimator__n_estimators=200; total time= 3.9min\n"
     ]
    },
    {
     "name": "stderr",
     "output_type": "stream",
     "text": [
      "C:\\Users\\Fadwa\\anaconda3\\lib\\site-packages\\sklearn\\metrics\\_classification.py:1492: UndefinedMetricWarning: F-score is ill-defined and being set to 0.0 in labels with no true nor predicted samples. Use `zero_division` parameter to control this behavior.\n",
      "  _warn_prf(\n"
     ]
    },
    {
     "name": "stdout",
     "output_type": "stream",
     "text": [
      "[CV 2/3] END clf__estimator__learning_rate=0.3, clf__estimator__n_estimators=200; total time= 4.5min\n"
     ]
    },
    {
     "name": "stderr",
     "output_type": "stream",
     "text": [
      "C:\\Users\\Fadwa\\anaconda3\\lib\\site-packages\\sklearn\\metrics\\_classification.py:1492: UndefinedMetricWarning: F-score is ill-defined and being set to 0.0 in labels with no true nor predicted samples. Use `zero_division` parameter to control this behavior.\n",
      "  _warn_prf(\n"
     ]
    },
    {
     "name": "stdout",
     "output_type": "stream",
     "text": [
      "[CV 3/3] END clf__estimator__learning_rate=0.3, clf__estimator__n_estimators=200; total time= 4.1min\n"
     ]
    },
    {
     "data": {
      "text/plain": [
       "GridSearchCV(cv=3,\n",
       "             estimator=Pipeline(steps=[('vect',\n",
       "                                        CountVectorizer(tokenizer=<function tokenize at 0x00000228F161A040>)),\n",
       "                                       ('tfidf', TfidfTransformer()),\n",
       "                                       ('clf',\n",
       "                                        MultiOutputClassifier(estimator=AdaBoostClassifier(base_estimator=DecisionTreeClassifier(class_weight='balanced',\n",
       "                                                                                                                                 max_depth=1))))]),\n",
       "             param_grid={'clf__estimator__learning_rate': [0.1, 0.3],\n",
       "                         'clf__estimator__n_estimators': [100, 200]},\n",
       "             scoring='f1_weighted', verbose=3)"
      ]
     },
     "execution_count": 27,
     "metadata": {},
     "output_type": "execute_result"
    }
   ],
   "source": [
    "cv_ada.fit(X_train, y_train)"
   ]
  },
  {
   "cell_type": "code",
   "execution_count": 28,
   "metadata": {},
   "outputs": [
    {
     "data": {
      "text/plain": [
       "{'clf__estimator__learning_rate': 0.3, 'clf__estimator__n_estimators': 200}"
      ]
     },
     "execution_count": 28,
     "metadata": {},
     "output_type": "execute_result"
    }
   ],
   "source": [
    "# Best parameters set\n",
    "cv_ada.best_params_"
   ]
  },
  {
   "cell_type": "code",
   "execution_count": 29,
   "metadata": {},
   "outputs": [
    {
     "data": {
      "text/plain": [
       "{'clf__estimator__learning_rate': 0.3, 'clf__estimator__n_estimators': 200}"
      ]
     },
     "execution_count": 29,
     "metadata": {},
     "output_type": "execute_result"
    }
   ],
   "source": [
    "{'clf__estimator__learning_rate': 0.3, 'clf__estimator__n_estimators': 200}"
   ]
  },
  {
   "cell_type": "code",
   "execution_count": 36,
   "metadata": {},
   "outputs": [],
   "source": [
    "y_pred = cv_ada.predict(X_train)"
   ]
  },
  {
   "cell_type": "code",
   "execution_count": 37,
   "metadata": {},
   "outputs": [
    {
     "name": "stdout",
     "output_type": "stream",
     "text": [
      "category_related\n",
      "\tAccuracy: 0.7342\t\t% Precision: 0.8365\t\t% Recall: 0.7342\t\t% F1_score: 0.7545\n",
      "category_request\n",
      "\tAccuracy: 0.8685\t\t% Precision: 0.8883\t\t% Recall: 0.8685\t\t% F1_score: 0.8753\n",
      "category_offer\n",
      "\tAccuracy: 0.9631\t\t% Precision: 0.9961\t\t% Recall: 0.9631\t\t% F1_score: 0.9777\n",
      "category_aid_related\n",
      "\tAccuracy: 0.7816\t\t% Precision: 0.7804\t\t% Recall: 0.7816\t\t% F1_score: 0.7802\n",
      "category_medical_help\n",
      "\tAccuracy: 0.8969\t\t% Precision: 0.9286\t\t% Recall: 0.8969\t\t% F1_score: 0.9087\n",
      "category_medical_products\n",
      "\tAccuracy: 0.9068\t\t% Precision: 0.9546\t\t% Recall: 0.9068\t\t% F1_score: 0.9244\n",
      "category_search_and_rescue\n",
      "\tAccuracy: 0.8740\t\t% Precision: 0.9714\t\t% Recall: 0.8740\t\t% F1_score: 0.9126\n",
      "category_security\n",
      "\tAccuracy: 0.8690\t\t% Precision: 0.9806\t\t% Recall: 0.8690\t\t% F1_score: 0.9151\n",
      "category_military\n",
      "\tAccuracy: 0.9608\t\t% Precision: 0.9787\t\t% Recall: 0.9608\t\t% F1_score: 0.9670\n",
      "category_child_alone\n",
      "\tAccuracy: 1.0000\t\t% Precision: 1.0000\t\t% Recall: 1.0000\t\t% F1_score: 1.0000\n",
      "category_water\n",
      "\tAccuracy: 0.9514\t\t% Precision: 0.9656\t\t% Recall: 0.9514\t\t% F1_score: 0.9561\n",
      "category_food\n",
      "\tAccuracy: 0.9532\t\t% Precision: 0.9579\t\t% Recall: 0.9532\t\t% F1_score: 0.9548\n",
      "category_shelter\n",
      "\tAccuracy: 0.9327\t\t% Precision: 0.9478\t\t% Recall: 0.9327\t\t% F1_score: 0.9379\n",
      "category_clothing\n",
      "\tAccuracy: 0.9795\t\t% Precision: 0.9896\t\t% Recall: 0.9795\t\t% F1_score: 0.9831\n",
      "category_money\n",
      "\tAccuracy: 0.9490\t\t% Precision: 0.9807\t\t% Recall: 0.9490\t\t% F1_score: 0.9610\n",
      "category_missing_people\n",
      "\tAccuracy: 0.9404\t\t% Precision: 0.9890\t\t% Recall: 0.9404\t\t% F1_score: 0.9606\n",
      "category_refugees\n",
      "\tAccuracy: 0.9196\t\t% Precision: 0.9681\t\t% Recall: 0.9196\t\t% F1_score: 0.9381\n",
      "category_death\n",
      "\tAccuracy: 0.9529\t\t% Precision: 0.9692\t\t% Recall: 0.9529\t\t% F1_score: 0.9587\n",
      "category_other_aid\n",
      "\tAccuracy: 0.7904\t\t% Precision: 0.8618\t\t% Recall: 0.7904\t\t% F1_score: 0.8153\n",
      "category_infrastructure_related\n",
      "\tAccuracy: 0.8074\t\t% Precision: 0.9303\t\t% Recall: 0.8074\t\t% F1_score: 0.8516\n",
      "category_transport\n",
      "\tAccuracy: 0.8764\t\t% Precision: 0.9488\t\t% Recall: 0.8764\t\t% F1_score: 0.9044\n",
      "category_buildings\n",
      "\tAccuracy: 0.9263\t\t% Precision: 0.9595\t\t% Recall: 0.9263\t\t% F1_score: 0.9382\n",
      "category_electricity\n",
      "\tAccuracy: 0.9711\t\t% Precision: 0.9851\t\t% Recall: 0.9711\t\t% F1_score: 0.9762\n",
      "category_tools\n",
      "\tAccuracy: 0.9653\t\t% Precision: 0.9946\t\t% Recall: 0.9653\t\t% F1_score: 0.9776\n",
      "category_hospitals\n",
      "\tAccuracy: 0.9615\t\t% Precision: 0.9899\t\t% Recall: 0.9615\t\t% F1_score: 0.9730\n",
      "category_shops\n",
      "\tAccuracy: 0.9709\t\t% Precision: 0.9960\t\t% Recall: 0.9709\t\t% F1_score: 0.9817\n",
      "category_aid_centers\n",
      "\tAccuracy: 0.9414\t\t% Precision: 0.9889\t\t% Recall: 0.9414\t\t% F1_score: 0.9611\n",
      "category_other_infrastructure\n",
      "\tAccuracy: 0.8072\t\t% Precision: 0.9561\t\t% Recall: 0.8072\t\t% F1_score: 0.8622\n",
      "category_weather_related\n",
      "\tAccuracy: 0.8929\t\t% Precision: 0.8915\t\t% Recall: 0.8929\t\t% F1_score: 0.8920\n",
      "category_floods\n",
      "\tAccuracy: 0.9424\t\t% Precision: 0.9478\t\t% Recall: 0.9424\t\t% F1_score: 0.9446\n",
      "category_storm\n",
      "\tAccuracy: 0.9483\t\t% Precision: 0.9576\t\t% Recall: 0.9483\t\t% F1_score: 0.9514\n",
      "category_fire\n",
      "\tAccuracy: 0.9796\t\t% Precision: 0.9926\t\t% Recall: 0.9796\t\t% F1_score: 0.9844\n",
      "category_earthquake\n",
      "\tAccuracy: 0.9745\t\t% Precision: 0.9746\t\t% Recall: 0.9745\t\t% F1_score: 0.9745\n",
      "category_cold\n",
      "\tAccuracy: 0.9745\t\t% Precision: 0.9860\t\t% Recall: 0.9745\t\t% F1_score: 0.9787\n",
      "category_other_weather\n",
      "\tAccuracy: 0.8746\t\t% Precision: 0.9466\t\t% Recall: 0.8746\t\t% F1_score: 0.9016\n",
      "category_direct_report\n",
      "\tAccuracy: 0.8224\t\t% Precision: 0.8492\t\t% Recall: 0.8224\t\t% F1_score: 0.8317\n"
     ]
    }
   ],
   "source": [
    "multioutput_classification_report(y_train, y_pred)"
   ]
  },
  {
   "cell_type": "code",
   "execution_count": 38,
   "metadata": {},
   "outputs": [],
   "source": [
    "y_pred = cv_ada.predict(X_test)"
   ]
  },
  {
   "cell_type": "code",
   "execution_count": 39,
   "metadata": {},
   "outputs": [
    {
     "name": "stdout",
     "output_type": "stream",
     "text": [
      "category_related\n",
      "\tAccuracy: 0.7229\t\t% Precision: 0.8178\t\t% Recall: 0.7229\t\t% F1_score: 0.7431\n",
      "category_request\n",
      "\tAccuracy: 0.8543\t\t% Precision: 0.8773\t\t% Recall: 0.8543\t\t% F1_score: 0.8624\n",
      "category_offer\n",
      "\tAccuracy: 0.9556\t\t% Precision: 0.9913\t\t% Recall: 0.9556\t\t% F1_score: 0.9726\n",
      "category_aid_related\n",
      "\tAccuracy: 0.7702\t\t% Precision: 0.7691\t\t% Recall: 0.7702\t\t% F1_score: 0.7695\n",
      "category_medical_help\n",
      "\tAccuracy: 0.8921\t\t% Precision: 0.9233\t\t% Recall: 0.8921\t\t% F1_score: 0.9044\n",
      "category_medical_products\n",
      "\tAccuracy: 0.8917\t\t% Precision: 0.9431\t\t% Recall: 0.8917\t\t% F1_score: 0.9123\n",
      "category_search_and_rescue\n",
      "\tAccuracy: 0.8494\t\t% Precision: 0.9605\t\t% Recall: 0.8494\t\t% F1_score: 0.8969\n",
      "category_security\n",
      "\tAccuracy: 0.8494\t\t% Precision: 0.9736\t\t% Recall: 0.8494\t\t% F1_score: 0.9045\n",
      "category_military\n",
      "\tAccuracy: 0.9495\t\t% Precision: 0.9674\t\t% Recall: 0.9495\t\t% F1_score: 0.9566\n",
      "category_child_alone\n",
      "\tAccuracy: 1.0000\t\t% Precision: 1.0000\t\t% Recall: 1.0000\t\t% F1_score: 1.0000\n",
      "category_water\n",
      "\tAccuracy: 0.9480\t\t% Precision: 0.9656\t\t% Recall: 0.9480\t\t% F1_score: 0.9537\n",
      "category_food\n",
      "\tAccuracy: 0.9503\t\t% Precision: 0.9538\t\t% Recall: 0.9503\t\t% F1_score: 0.9516\n",
      "category_shelter\n",
      "\tAccuracy: 0.9295\t\t% Precision: 0.9466\t\t% Recall: 0.9295\t\t% F1_score: 0.9354\n",
      "category_clothing\n",
      "\tAccuracy: 0.9745\t\t% Precision: 0.9845\t\t% Recall: 0.9745\t\t% F1_score: 0.9787\n",
      "category_money\n",
      "\tAccuracy: 0.9437\t\t% Precision: 0.9774\t\t% Recall: 0.9437\t\t% F1_score: 0.9573\n",
      "category_missing_people\n",
      "\tAccuracy: 0.9294\t\t% Precision: 0.9838\t\t% Recall: 0.9294\t\t% F1_score: 0.9545\n",
      "category_refugees\n",
      "\tAccuracy: 0.9112\t\t% Precision: 0.9642\t\t% Recall: 0.9112\t\t% F1_score: 0.9330\n",
      "category_death\n",
      "\tAccuracy: 0.9461\t\t% Precision: 0.9620\t\t% Recall: 0.9461\t\t% F1_score: 0.9521\n",
      "category_other_aid\n",
      "\tAccuracy: 0.7606\t\t% Precision: 0.8507\t\t% Recall: 0.7606\t\t% F1_score: 0.7929\n",
      "category_infrastructure_related\n",
      "\tAccuracy: 0.7833\t\t% Precision: 0.9150\t\t% Recall: 0.7833\t\t% F1_score: 0.8336\n",
      "category_transport\n",
      "\tAccuracy: 0.8607\t\t% Precision: 0.9413\t\t% Recall: 0.8607\t\t% F1_score: 0.8943\n",
      "category_buildings\n",
      "\tAccuracy: 0.9143\t\t% Precision: 0.9528\t\t% Recall: 0.9143\t\t% F1_score: 0.9289\n",
      "category_electricity\n",
      "\tAccuracy: 0.9593\t\t% Precision: 0.9777\t\t% Recall: 0.9593\t\t% F1_score: 0.9669\n",
      "category_tools\n",
      "\tAccuracy: 0.9529\t\t% Precision: 0.9908\t\t% Recall: 0.9529\t\t% F1_score: 0.9711\n",
      "category_hospitals\n",
      "\tAccuracy: 0.9541\t\t% Precision: 0.9871\t\t% Recall: 0.9541\t\t% F1_score: 0.9688\n",
      "category_shops\n",
      "\tAccuracy: 0.9606\t\t% Precision: 0.9921\t\t% Recall: 0.9606\t\t% F1_score: 0.9758\n",
      "category_aid_centers\n",
      "\tAccuracy: 0.9307\t\t% Precision: 0.9822\t\t% Recall: 0.9307\t\t% F1_score: 0.9545\n",
      "category_other_infrastructure\n",
      "\tAccuracy: 0.7868\t\t% Precision: 0.9394\t\t% Recall: 0.7868\t\t% F1_score: 0.8467\n",
      "category_weather_related\n",
      "\tAccuracy: 0.8886\t\t% Precision: 0.8873\t\t% Recall: 0.8886\t\t% F1_score: 0.8878\n",
      "category_floods\n",
      "\tAccuracy: 0.9390\t\t% Precision: 0.9464\t\t% Recall: 0.9390\t\t% F1_score: 0.9420\n",
      "category_storm\n",
      "\tAccuracy: 0.9423\t\t% Precision: 0.9532\t\t% Recall: 0.9423\t\t% F1_score: 0.9460\n",
      "category_fire\n",
      "\tAccuracy: 0.9667\t\t% Precision: 0.9841\t\t% Recall: 0.9667\t\t% F1_score: 0.9745\n",
      "category_earthquake\n",
      "\tAccuracy: 0.9727\t\t% Precision: 0.9731\t\t% Recall: 0.9727\t\t% F1_score: 0.9729\n",
      "category_cold\n",
      "\tAccuracy: 0.9684\t\t% Precision: 0.9797\t\t% Recall: 0.9684\t\t% F1_score: 0.9730\n",
      "category_other_weather\n",
      "\tAccuracy: 0.8624\t\t% Precision: 0.9367\t\t% Recall: 0.8624\t\t% F1_score: 0.8919\n",
      "category_direct_report\n",
      "\tAccuracy: 0.7986\t\t% Precision: 0.8351\t\t% Recall: 0.7986\t\t% F1_score: 0.8112\n"
     ]
    }
   ],
   "source": [
    "multioutput_classification_report(y_test, y_pred)"
   ]
  },
  {
   "cell_type": "markdown",
   "metadata": {},
   "source": [
    "### 9. Export your model as a pickle file"
   ]
  },
  {
   "cell_type": "code",
   "execution_count": 40,
   "metadata": {},
   "outputs": [],
   "source": [
    "pickle.dump(cv, open('classifier.pkl', 'wb'))"
   ]
  },
  {
   "cell_type": "code",
   "execution_count": 41,
   "metadata": {},
   "outputs": [],
   "source": [
    "with open('classifier.pkl', 'wb') as file:\n",
    "    pickle.dump(cv_ada, file)"
   ]
  },
  {
   "cell_type": "markdown",
   "metadata": {},
   "source": [
    "### 10. Use this notebook to complete `train.py`\n",
    "Use the template file attached in the Resources folder to write a script that runs the steps above to create a database and export a model based on a new dataset specified by the user."
   ]
  },
  {
   "cell_type": "code",
   "execution_count": null,
   "metadata": {},
   "outputs": [],
   "source": []
  }
 ],
 "metadata": {
  "kernelspec": {
   "display_name": "Python 3",
   "language": "python",
   "name": "python3"
  },
  "language_info": {
   "codemirror_mode": {
    "name": "ipython",
    "version": 3
   },
   "file_extension": ".py",
   "mimetype": "text/x-python",
   "name": "python",
   "nbconvert_exporter": "python",
   "pygments_lexer": "ipython3",
   "version": "3.8.8"
  }
 },
 "nbformat": 4,
 "nbformat_minor": 2
}
